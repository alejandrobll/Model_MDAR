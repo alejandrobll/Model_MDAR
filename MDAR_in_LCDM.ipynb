{
 "cells": [
  {
   "cell_type": "code",
   "execution_count": 14,
   "metadata": {
    "collapsed": false
   },
   "outputs": [],
   "source": [
    "from scipy import special\n",
    "from scipy.optimize import brentq\n",
    "from scipy.optimize import fixed_point\n",
    "from scipy.interpolate import interp1d\n",
    "import numpy as np\n",
    "import matplotlib.pyplot as plt\n",
    "%matplotlib inline\n",
    "from ipywidgets import *\n",
    "from IPython.display import display"
   ]
  },
  {
   "cell_type": "code",
   "execution_count": 104,
   "metadata": {
    "collapsed": false
   },
   "outputs": [],
   "source": [
    "class mdar():\n",
    "    def __init__(self, M200=1e12, Mgal=0, Rh=0, f_mbulge=0.0, f_abulge=1.0, rmin=False, rmax=False):\n",
    "        #define the constants\n",
    "        self.M200    = M200\n",
    "        self.hlittle = 0.7\n",
    "        self.rhoc    = 2.775e2*self.hlittle**2\n",
    "        self.G       = 4.299e-6\n",
    "        self.Delta   = 200.0\n",
    "        self.g_dag   = 1.2e-10\n",
    "        mass_concentration = np.loadtxt('mass_concentration.txt')\n",
    "        self.get_concentration = interp1d(10**(mass_concentration[:,0]+10-np.log10(self.hlittle)), \n",
    "                                          mass_concentration[:,1])\n",
    "        halo_galaxy_relation = np.loadtxt('m200-mstr.txt')\n",
    "        self.get_galaxy_mass = interp1d(halo_galaxy_relation[:,0], \n",
    "                                        halo_galaxy_relation[:,1]*halo_galaxy_relation[:,0])\n",
    "        \n",
    "      \n",
    "        if(Mgal == 0):\n",
    "            self.Mgal    = self.get_galaxy_mass(self.M200)\n",
    "        else:\n",
    "            self.Mgal    = Mgal\n",
    "        if(Rh == 0):\n",
    "            self.Rh    = self.get_disk_size()\n",
    "            self.Rd    = self.Rh/1.678\n",
    "        else:\n",
    "            Self.Rh    = Rh\n",
    "            self.Rd    = self.Rh/1.678\n",
    "        \n",
    "        \n",
    "        self.f_mbulge = f_mbulge\n",
    "        self.f_abulge = f_abulge*self.Rh\n",
    "                \n",
    "        self.rmin = rmin\n",
    "        self.rmax = rmax\n",
    "        \n",
    "        self.r = self.set_extent()\n",
    "        \n",
    "    def set_extent(self):\n",
    "        if(self.rmin):\n",
    "            self.rmin = self.rmin\n",
    "        else:\n",
    "            self.rmin = 0.2*self.Rh\n",
    "        if(self.rmax):\n",
    "            self.rmax = self.rmax\n",
    "        else:\n",
    "            self.rmax = 5*self.Rh\n",
    "            \n",
    "        return 10**np.linspace(np.log10(self.rmin), np.log10(self.rmax), 100)\n",
    "        \n",
    "    def set_new_paramters(self,M200=1e12, Mgal=False, Rh=False, \n",
    "                          rmin=False, rmax=False, f_abulge=1.0, f_mbulge=0.0):\n",
    "        self.M200 = M200\n",
    "        if(Mgal == 0):\n",
    "            self.Mgal    = self.get_galaxy_mass(self.M200)\n",
    "        else:\n",
    "            self.Mgal    = Mgal\n",
    "        if(Rh == 0):\n",
    "            self.Rh    = self.get_disk_size()\n",
    "            self.Rd    = self.Rh/1.678\n",
    "        else:\n",
    "            self.Rh    = Rh\n",
    "            self.Rd    = self.Rh/1.678\n",
    "            \n",
    "        self.f_mbulge = f_mbulge\n",
    "        self.f_abulge = f_abulge*self.Rh            \n",
    "            \n",
    "        self.rmin = rmin\n",
    "        self.rmax = rmax\n",
    "        self.r = self.set_extent()\n",
    "        return\n",
    "        \n",
    "    def get_halo_mass(self,r):\n",
    "        c = self.get_concentration(self.M200)\n",
    "        print c\n",
    "        R200 = (self.M200/(self.Delta*self.rhoc*4./3.*np.pi))**(1./3.)\n",
    "        RR = r/R200\n",
    "        M = (np.log(1+c*RR)-c*RR/(1+c*RR))/(np.log(1.0+c)-c/(1.0+c))\n",
    "        return M*self.M200\n",
    "    \n",
    "    def get_disk_size(self):\n",
    "        R200 = (self.M200/(200*self.rhoc*4./3.*np.pi))**(1./3.)\n",
    "        c    = self.get_concentration(self.M200)\n",
    "        rs = R200/c\n",
    "        return 0.2*rs    \n",
    "\n",
    "    def McGaugh(self, gbar):\n",
    "        return gbar/(1.0-np.exp(-np.sqrt(gbar/self.g_dag)))\n",
    "\n",
    "    def get_vcirc_disk(self,r):\n",
    "        sigma0 = (self.Mgal*(1.0-self.f_mbulge))/(2.0*np.pi*self.Rd**2)\n",
    "        sigma  = sigma0*np.exp(-r/self.Rd)\n",
    "        y = r/(2.0*self.Rd)\n",
    "        I0 = special.i0(y)\n",
    "        K0 = special.k0(y)\n",
    "        I1 = special.i1(y)\n",
    "        K1 = special.k1(y)\n",
    "        return np.sqrt(4.0*np.pi*self.G*sigma0*self.Rd*y**2*(I0*K0-I1*K1))\n",
    "\n",
    "    def get_vcirc_halo(self,r):\n",
    "        return np.sqrt(self.G*self.get_halo_mass(r)/r)\n",
    "    \n",
    "    \n",
    "    def get_vcirc_bulge(self,r):\n",
    "        return np.sqrt(self.G*self.Mgal*self.f_mbulge*r/(r+self.f_abulge)**2/r)\n",
    "\n",
    "    \n",
    "    def get_disk_acc(self,r):\n",
    "        gbar = (self.get_vcirc_disk(r)**2+self.get_vcirc_bulge(r)**2)/r*1e6/3.086e19\n",
    "        return gbar\n",
    "    \n",
    "    def get_halo_acc(self,r):\n",
    "        gdm = (self.G*self.get_halo_mass(r)/r)/r*1e6/(3.086e19)\n",
    "        return gdm\n",
    "        \n",
    "    def plot_mdar(self, ax=None):\n",
    "        gg = np.linspace(-13,-7)\n",
    "        if(ax == None):\n",
    "            ax = plt.gca()\n",
    "        ax.plot(gg, gg, ls='--')\n",
    "        ax.plot(gg, np.log10(self.McGaugh(10**gg)), ls='--')\n",
    "        \n",
    "    def plot_galaxy(self, ax=None):\n",
    "        if(ax == None):\n",
    "            ax = plt.gca()\n",
    "        gbar = self.get_disk_acc(self.r)\n",
    "        gdm  = self.get_halo_acc(self.r)        \n",
    "        ax.plot(np.log10(gbar), np.log10(gbar+gdm))\n",
    "    \n",
    "    def plot_vcirc(self, ax=None):\n",
    "        vcirc_disk  = self.get_vcirc_disk(self.r)\n",
    "        vcirc_halo  = self.get_vcirc_halo(self.r)\n",
    "        vcirc_bulge = self.get_vcirc_bulge(self.r)\n",
    "        total = np.sqrt(vcirc_disk**2+vcirc_halo**2+vcirc_bulge**2)\n",
    "        \n",
    "        if(ax == None):\n",
    "            ax = plt.gca()\n",
    "        ax.plot(self.r, vcirc_disk, label='disk')\n",
    "        ax.plot(self.r, vcirc_halo, label='dm halo')\n",
    "        ax.plot(self.r, vcirc_bulge, label='bulge')\n",
    "        ax.plot(self.r, total, label='total')\n",
    "    "
   ]
  },
  {
   "cell_type": "code",
   "execution_count": 105,
   "metadata": {
    "collapsed": true
   },
   "outputs": [],
   "source": [
    "def plot_function(M200, Mgal, Rh, f_mbulge, f_abulge):\n",
    "    fig = plt.figure(1,figsize=(10,5))\n",
    "    ax1 = fig.add_subplot(121)\n",
    "    ax2 = fig.add_subplot(122)\n",
    "    \n",
    "    if(Mgal == 0):\n",
    "        Mgal == 0\n",
    "    else:\n",
    "        Mgal = 10**Mgal\n",
    "    \n",
    "    a.set_new_paramters(M200=10**M200, f_mbulge=f_mbulge, f_abulge=f_abulge, Mgal=Mgal, Rh=Rh)\n",
    "    a.plot_mdar(ax=ax1)    \n",
    "    a.plot_galaxy(ax=ax1)\n",
    "    ax1.set_xlim(-13,-7)\n",
    "    ax1.set_ylim(-13,-7)\n",
    "    \n",
    "    a.plot_vcirc(ax=ax2)\n",
    "    ax2.legend(loc='upper left')\n",
    "    return\n",
    "\n",
    "#def on_button_clicked(b):\n",
    "\n",
    "a = mdar()"
   ]
  },
  {
   "cell_type": "code",
   "execution_count": 107,
   "metadata": {
    "collapsed": false,
    "scrolled": false
   },
   "outputs": [
    {
     "data": {
      "image/png": "[encoded data removed]",
      "text/html": [
       "<img src=data:image/png;base64,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 class=\"jupyter-widget\">\n",
       "<script type=\"application/vnd.jupyter-embedded-widgets\">[{},{\"layout\":\"IPY_MODEL_582a9f6b825d4890ae0e1573b2808d39\",\"min\":10.3,\"description\":\"M200\",\"max\":13,\"step\":0.1,\"value\":11.9},{},{\"layout\":\"IPY_MODEL_21b9c3ea962245aaa90475e0df9f69a5\",\"description\":\"f_mbulge\",\"max\":1,\"step\":0.1,\"value\":0.7},{},{\"layout\":\"IPY_MODEL_c40b6a8752b4403cb25ee4ba792bfd24\",\"min\":-1,\"description\":\"f_abulge\",\"max\":3,\"step\":0.1},{},{\"children\":[\"IPY_MODEL_039c7ed52efc412b94b9a8a1d0b50d66\",\"IPY_MODEL_3fe19fe7f61b47aa95846d5992214b32\",\"IPY_MODEL_20fe6c69e54040acb7b6b16e11f850cb\"],\"layout\":\"IPY_MODEL_565c845e85ad4cd185b0b440e50677c5\",\"_dom_classes\":[\"widget-interact\"]}]</script>"
      ]
     },
     "metadata": {
      "isWidgetSnapshot": true
     },
     "output_type": "display_data"
    },
    {
     "name": "stdout",
     "output_type": "stream",
     "text": [
      "10.9247506828\n",
      "10.9247506828\n"
     ]
    },
    {
     "data": {
      "image/png": "[encoded data removed]",
      "text/plain": [
       "<matplotlib.figure.Figure at 0x3bc2f50>"
      ]
     },
     "metadata": {},
     "output_type": "display_data"
    }
   ],
   "source": [
    "slider_Mgal = FloatSlider(min=0,max=16.0, setep=1, value=0)\n",
    "slider_Rh   = FloatSlider(min=0,max=20.0, setep=1, value=0)\n",
    "slider_m200 = FloatSlider(min=10.3,max=15.0, setep=1, value=12)\n",
    "slider_fmbulge = FloatSlider(min=0,max=1.0, setep=0.01, value=0.0)\n",
    "slider_fabulge = FloatSlider(min=0,max=2.0, setep=0.01, value=0.5)\n",
    "\n",
    "button = widgets.Button(description=\"Plot!\")\n",
    "\n",
    "interact(plot_function, M200=slider_m200, Mgal=slider_Mgal, Rh=slider_Rh,\n",
    "         f_mbulge=slider_fmbulge, f_abulge=slider_fabulge);\n"
   ]
  }
 ],
 "metadata": {
  "kernelspec": {
   "display_name": "Python 2",
   "language": "python",
   "name": "python2"
  },
  "language_info": {
   "codemirror_mode": {
    "name": "ipython",
    "version": 2
   },
   "file_extension": ".py",
   "mimetype": "text/x-python",
   "name": "python",
   "nbconvert_exporter": "python",
   "pygments_lexer": "ipython2",
   "version": "2.7.3"
  },
  "widgets": {
   "state": {
    "0029b13bc21c4f33a64a9f602a8584ca": {
     "views": []
    },
    "0100cd890c3946858d7da4f3814ef1e4": {
     "views": []
    },
    "014b95da73f746fca5e1ada40d340714": {
     "views": []
    },
    "0175fe1063f342e8bf63c57697922fe6": {
     "views": []
    },
    "026bb58b8fc6409ebdb0e4ae52bb870a": {
     "views": []
    },
    "02b9bf6774f7460c8659fa934ed4fc26": {
     "views": []
    },
    "02c479c8fcd6483182bb860e853683bb": {
     "views": []
    },
    "031bb1c3ed0c4188955a00f8c8e59cae": {
     "views": []
    },
    "039c7ed52efc412b94b9a8a1d0b50d66": {
     "views": []
    },
    "0424290f64bb4e34bd350c66efae3f98": {
     "views": []
    },
    "04ac417c0095460199c5f1768dcb1cb2": {
     "views": []
    },
    "04d984e7789c492883a339e28fb4c607": {
     "views": []
    },
    "04f22b4a0fc642d3bf63a6afb1851a60": {
     "views": []
    },
    "05905d8b34a8422399f0c8cd654adf15": {
     "views": []
    },
    "05cd257b2da1468aaed6e1201ac815fe": {
     "views": []
    },
    "06ebea16b10b4e998541c0c40c3a054a": {
     "views": []
    },
    "072424c058bc49f7bc99c3abc6ce663b": {
     "views": []
    },
    "07447960baa3407d91c461657dc2b44f": {
     "views": []
    },
    "07ca6fc65d04400aa823c5fdb55462ab": {
     "views": []
    },
    "07fbe691b2d943d2a3e87fd602a221ab": {
     "views": []
    },
    "082e86ef914844aaac32d72733f8a159": {
     "views": [
      {
       "cell_index": 3
      }
     ]
    },
    "08f3fea7c4a544ae8f769a7482de77a4": {
     "views": []
    },
    "09572545c9b54037b1f1707f65b1c387": {
     "views": []
    },
    "098c72fd8d3b4e14a992ad757f6bff77": {
     "views": []
    },
    "09acd37b3a8044998de83c72153daddc": {
     "views": []
    },
    "09fdd2705620484aa85cd173163a58a4": {
     "views": []
    },
    "0a9052e0ef394147804b4af16707b4f7": {
     "views": []
    },
    "0b371b8203884442a23750c67ccc3446": {
     "views": []
    },
    "0b4d3b2c51294f41af4108b3d09cd95f": {
     "views": []
    },
    "0b6b24c0d205454daf9cba5e686d5dbe": {
     "views": []
    },
    "0cf272046428484289fa4ed18396db49": {
     "views": []
    },
    "0d436450af4a4e139aba4c4261c2ebd9": {
     "views": []
    },
    "0e2b5ae19ad94916811215ea26efde41": {
     "views": []
    },
    "0e7f30a1d7a4493e98b5c85193250c43": {
     "views": []
    },
    "0e7fc91aa8b143d78823e28eb17fa57f": {
     "views": []
    },
    "0ede7ac2a5404c08bb98b7d39fe855ef": {
     "views": []
    },
    "0f252c82dae24075be0cdfbb5429b2c0": {
     "views": []
    },
    "0f28a4c4ba4645238f751271702fcb39": {
     "views": []
    },
    "0f3acd56015c48d68fec321bead8936b": {
     "views": []
    },
    "0f67d707e866499ba10a96f52527f451": {
     "views": []
    },
    "0fa369d1a3c048e48a17b954071e7206": {
     "views": []
    },
    "1165147c0555435596f1e30e37917a7d": {
     "views": []
    },
    "11dad3bc5b614cfdbbcfb5344920490a": {
     "views": []
    },
    "12a96dc9e4064d8fb673ee81a5994d33": {
     "views": []
    },
    "131c7c6490694e768ea29530b8edb652": {
     "views": []
    },
    "1330d8bf92c140d09675d280e31c82c0": {
     "views": []
    },
    "1477e69505e749e1816e729f4741afdf": {
     "views": []
    },
    "1493be53bc4e4888809bddda1dd4b146": {
     "views": []
    },
    "150cf37f5b274021aa5ecaf63b9783af": {
     "views": []
    },
    "1527cbe5cce54058b8b20d5f7b06f18a": {
     "views": []
    },
    "152e738bf262431aa8318063744ed0b2": {
     "views": []
    },
    "15767ffbb5b2408683efbc75aba9e1a7": {
     "views": []
    },
    "15b1928631b543dab39c56d80e954bb0": {
     "views": []
    },
    "15dfa9df01ce4486bdeedc27931d3bd5": {
     "views": []
    },
    "166b747a64654126ba27acc8dbbb96d8": {
     "views": []
    },
    "1690efc51a544a8a9ef46d218487248a": {
     "views": []
    },
    "177f0e94851d48f5ac2a7f6d02275010": {
     "views": []
    },
    "17f3da00f107442fb9de3bcb012fbcaa": {
     "views": []
    },
    "17fee3141dec42e7a48d77a187940eda": {
     "views": []
    },
    "180a854a925e4135b2da7bf8e0d4f669": {
     "views": []
    },
    "180ceca2fb124ccf872e5001ab2f82a4": {
     "views": []
    },
    "184ccde6f9cb4e28b3c653c548ff7db5": {
     "views": []
    },
    "19103e0c11e247c1b70219c0a2fbd5e5": {
     "views": []
    },
    "1a016bfc1b9d403fb910e6b5bcaa8176": {
     "views": []
    },
    "1a697b3d9d9a420ca8238c90bc0aaca6": {
     "views": []
    },
    "1a9ad39927134020980258a9d39b27ba": {
     "views": []
    },
    "1aa7470aeb8a4e098a7dcd8ab99c4ae4": {
     "views": []
    },
    "1b4df9e69f864e5299f682d86d184fe9": {
     "views": []
    },
    "1bedae6c3fc74406ba795e8fdf4b43ae": {
     "views": []
    },
    "1c47622cbd0e45a5b54155d462e19f23": {
     "views": []
    },
    "1c7b9867a5be496d81bbb5ba4ea3855a": {
     "views": []
    },
    "1eb5f91bc08e427b9410d40e01a2377b": {
     "views": []
    },
    "1fc2ed0554204ca19ac0d249715ed83c": {
     "views": []
    },
    "202a0da1f0bb469eb450876a27dc2cf6": {
     "views": []
    },
    "2036af56590d443a9e0e1028fbda4ada": {
     "views": []
    },
    "206d2605445742bebbf9b87ea70c3235": {
     "views": []
    },
    "20d4b0712d304035a10e56d0aec7b452": {
     "views": []
    },
    "20fe6c69e54040acb7b6b16e11f850cb": {
     "views": []
    },
    "217ff1fe456c44b0b400f66133af8e45": {
     "views": []
    },
    "21a6035c66e04f36aa05a4c8305858b9": {
     "views": []
    },
    "21b9c3ea962245aaa90475e0df9f69a5": {
     "views": []
    },
    "222049625a514c5d95153b903af65971": {
     "views": [
      {
       "cell_index": 3
      }
     ]
    },
    "22ce3bde1bf94705b1fbc083d54a44c0": {
     "views": []
    },
    "230e0ae065244591a3d81b056f425d83": {
     "views": []
    },
    "231f357260d24c28815cddd2dd939781": {
     "views": []
    },
    "235f901a550d4bb89d3865f7da1a1074": {
     "views": []
    },
    "23f44467eb9748e8bdfc941b9610c0a6": {
     "views": []
    },
    "241a6518006641d9b3c69bdf0672d64e": {
     "views": []
    },
    "2510d504fc38461db7e75a68a29b1318": {
     "views": []
    },
    "25cf726fb70c446e9577ffb4c7b275b4": {
     "views": []
    },
    "268ce81379be45d3ac1eb671874dfca5": {
     "views": []
    },
    "2692fdc4f7e348919a348941489c0055": {
     "views": []
    },
    "27d49ebec6cc42e8a65a7093a57fa4d9": {
     "views": []
    },
    "280b610e634c424f84a43b8e9b91527a": {
     "views": []
    },
    "28bf8c8c71ac4e0f9d0ccb8146a8ae84": {
     "views": []
    },
    "29b2cc011382492b923addad083910dd": {
     "views": []
    },
    "2b657f82ca3d4831b0e7365e2e9f460f": {
     "views": []
    },
    "2d62329381b24288a8b123a6464d8069": {
     "views": []
    },
    "2da9b9d945f34903a2ebefaacba0b75c": {
     "views": []
    },
    "2db14799726f4cf89be240ec5c8380ee": {
     "views": []
    },
    "2e6faf77b968452b8e0b79859d1d7550": {
     "views": []
    },
    "2e832313ecce4a6c9763a174ad8b7b46": {
     "views": []
    },
    "2ee1391d4f774cc7ac7165da1a60b928": {
     "views": []
    },
    "2f3ebdeb094140658bf34fdbb4a62570": {
     "views": []
    },
    "2f771b80974a4c18a18c0931237dabcf": {
     "views": []
    },
    "309d7af777794f0e9e5a89e186e2527d": {
     "views": []
    },
    "31fbc6db5c054425bdbebe2b6259c26d": {
     "views": []
    },
    "321f34e097394c958f24a97ddf9cf557": {
     "views": []
    },
    "32294a282a354d15a4c5765bdfa78316": {
     "views": []
    },
    "3232f517cdc54edf918e6f8c8d82dbf4": {
     "views": []
    },
    "3275a5b2b34244418fbbbc968346b314": {
     "views": []
    },
    "329e0bee69eb486dad3fb85a47b30357": {
     "views": []
    },
    "32a1e7804fb5485493c96016b03a038c": {
     "views": []
    },
    "32bc9c7302084b0ebdfd73dc8a1cfb4a": {
     "views": []
    },
    "33936b95173841fd9c4530eab0e1c60c": {
     "views": []
    },
    "33bc8fe4c5bf43e2b532d0ef6948940e": {
     "views": []
    },
    "33dd165a61a440a5a8712b0cf67bf6b3": {
     "views": []
    },
    "348d8d0391724af4a571473ee84ade0f": {
     "views": []
    },
    "34ddc8ec0f604694b7e1ddc557ff708f": {
     "views": []
    },
    "35f606178d874d2aaae77e55ea748827": {
     "views": [
      {
       "cell_index": 3
      }
     ]
    },
    "3636131b7d89485381dc293ea0b8ceab": {
     "views": []
    },
    "364c9ad73e8d4809863de779fb61b34d": {
     "views": []
    },
    "36dce40f298b4185bf4d2cd5bbf9f450": {
     "views": []
    },
    "36ff30af70574c9399c456a7b7e9a1e7": {
     "views": []
    },
    "38aa029a84874709b548a0bfa88309db": {
     "views": []
    },
    "394ab9a6bb064ba895b220bc2d5822d1": {
     "views": []
    },
    "395b09cfa02f471fb72dfe25b0908cb1": {
     "views": []
    },
    "3a06d266d48542bc9d6ea4bda9e2afc3": {
     "views": [
      {
       "cell_index": 3
      }
     ]
    },
    "3a10fcfba4304b9995359fe9845fc9c1": {
     "views": []
    },
    "3af6b4ef80dd437aa3df08d7a3603161": {
     "views": []
    },
    "3b31b5bc898b42f29b4cb1a8eced9c14": {
     "views": []
    },
    "3c0b771dc7734c549719877d5e7b44a3": {
     "views": []
    },
    "3d26ee05972f4a1cb4e098cde76dfb68": {
     "views": []
    },
    "3d515917c3164e0dbadca1c176e836d5": {
     "views": []
    },
    "3d96ab2ba23c48c891c683e1bb8b7818": {
     "views": []
    },
    "3da0cd31a1ba480bb744bcdd95d8d76f": {
     "views": []
    },
    "3da7b66068ca424a97dca2c724eaad1e": {
     "views": []
    },
    "3e365b163f584248b1a62f361de9e341": {
     "views": []
    },
    "3e406693522e46bbaa41810855fefd0a": {
     "views": []
    },
    "3e68d6b8faf94b95b878cbf43a090d4a": {
     "views": []
    },
    "3eb45bfd9f264824ad94b317230ba3df": {
     "views": []
    },
    "3ee52e6e2f8644428f876898f4121bde": {
     "views": []
    },
    "3f61b303fe7a43198a12297848cf7212": {
     "views": []
    },
    "3f926a6ee1c84bbf98d4dac70f69bf4b": {
     "views": []
    },
    "3fa5a29f2bb84ace813673c6a1141157": {
     "views": []
    },
    "3fe19fe7f61b47aa95846d5992214b32": {
     "views": []
    },
    "4028c12ab5154245aa7868f8a76d6b60": {
     "views": []
    },
    "40b7b65734e8492999534313c97b4601": {
     "views": []
    },
    "40e93871df9148568e2988070589725c": {
     "views": []
    },
    "414ee3062b75498dbdcda724b016531e": {
     "views": []
    },
    "41b08f97314245b6a04c826843ca55c7": {
     "views": []
    },
    "4206da3f59d1427fbb9667c0f96eaa8c": {
     "views": []
    },
    "42b5551c7c304e57b3e887aa113a4600": {
     "views": []
    },
    "42bee8de20c74ea3b5e3397bc75391f0": {
     "views": []
    },
    "432580498ee3446db6a31036d9252ee8": {
     "views": []
    },
    "4373f349a4714b909ae908b76fd4e0a2": {
     "views": [
      {
       "cell_index": 3
      }
     ]
    },
    "43e6bc387d5f4bb1a18db56851baa84c": {
     "views": []
    },
    "44694f33b6af4333a4417b730f989bbb": {
     "views": []
    },
    "44de005ab3b3419d8f13e06259a3d104": {
     "views": []
    },
    "45504c14f08e4e5b9e2c66052ce4eb49": {
     "views": []
    },
    "45d7a300f4324bbb96a2d1b652d54c1c": {
     "views": []
    },
    "46b439080dd140cdb4f265d49be44dd3": {
     "views": []
    },
    "47526eb5888141b89e69f2992315c097": {
     "views": []
    },
    "47d0c2d884024bb8a377d55e6ebd0393": {
     "views": []
    },
    "48be367ca74047d69f5ab6bf1aa4e9ae": {
     "views": []
    },
    "491c50f2bd8a4a44887a3983a6fd5667": {
     "views": []
    },
    "4936079b88ce41ce8fc8afb35ad03fbf": {
     "views": [
      {
       "cell_index": 3
      }
     ]
    },
    "49c8a7bddcf34e9492ac9845eaba8741": {
     "views": []
    },
    "49cfc79cbec240f08bb7524637924012": {
     "views": []
    },
    "4a8328415e3542c08b4d5b56de4e9d9b": {
     "views": []
    },
    "4ba4473c23f647368bea869a0dad0077": {
     "views": []
    },
    "4badcb3057f04fd5911d746bb33f0b8d": {
     "views": []
    },
    "4c483efc3f304b62b13c17abc45216bd": {
     "views": []
    },
    "4c4db9228a5747dc92c039a7057d5917": {
     "views": []
    },
    "4c787fc95c6b4b2d96d268fe1d54736a": {
     "views": []
    },
    "4d30dee5da6e4879bb87c601d6845c09": {
     "views": []
    },
    "4d7640183821414590822def89218c5f": {
     "views": []
    },
    "4e3df844cdfa44be8add765cfa934dc2": {
     "views": []
    },
    "4eafa4ed369b4d2aa0e8ab19dbc989b3": {
     "views": []
    },
    "4f07b4bb994f4ae18f64fcbce90ebe3e": {
     "views": []
    },
    "4f768336ba3d4cdb8e9e29e029b8a4c8": {
     "views": []
    },
    "4fbd48d0f0d04b2ea2d366bd0fa126a7": {
     "views": []
    },
    "4fd78305006b46f18de8dad1dc9c2af5": {
     "views": []
    },
    "50cab7844ed7488e969a11d53d84ae39": {
     "views": []
    },
    "51390654c7f44d6e92c0cc4cf6836a28": {
     "views": []
    },
    "513df45794f2484aae16151933ab78e3": {
     "views": []
    },
    "53053692305a453f8684eadc5302c275": {
     "views": []
    },
    "5344671a35e646268fa06eae62c48193": {
     "views": []
    },
    "5346edfa96db430fb10fc805650fff94": {
     "views": []
    },
    "557806d388434a638de3ec65d84020cd": {
     "views": []
    },
    "56056c4fcb094b2198ade2c113bbc56c": {
     "views": []
    },
    "5652a3be385a4ec9ac50568ec1798ce5": {
     "views": []
    },
    "565c845e85ad4cd185b0b440e50677c5": {
     "views": []
    },
    "565d34288d3f4fa5ba2e10a2fbb28002": {
     "views": []
    },
    "568b1fff61184a31b78c667e56fedbe6": {
     "views": []
    },
    "56e4dd9c31c24fb5b55a1ea713cc16fb": {
     "views": []
    },
    "57636b6ce31d43b1b0c3b4fe573775f9": {
     "views": []
    },
    "5793512062a1470498fbe5e050333143": {
     "views": []
    },
    "57e7068353d84756861b0e6b0ed3555a": {
     "views": []
    },
    "582a9f6b825d4890ae0e1573b2808d39": {
     "views": []
    },
    "58373fff287248fbbe1fbedcd7a4c899": {
     "views": []
    },
    "58e7fa351447407ca0a4fa42903322a0": {
     "views": []
    },
    "5955b07b2c6a4a3aa548c1d0d07403c4": {
     "views": []
    },
    "598fcd3aee2444b98ca6ef7c475b04ef": {
     "views": []
    },
    "59b2285f080345b686ed320eb774add7": {
     "views": []
    },
    "5b472797871945fe89ef3647fc0feaf5": {
     "views": []
    },
    "5c0519ea329e4d379e5f9f3f0f5d7dd2": {
     "views": []
    },
    "5c122c41cee0486cbf1854c25023d6d7": {
     "views": []
    },
    "5da6b98bbf9a405e9994d27eaa1996c2": {
     "views": []
    },
    "5e2e136f38bb42b783ce017271babee4": {
     "views": []
    },
    "5ef9318974264b2c9ed1294f2f604fc9": {
     "views": []
    },
    "5f60c7a2f39c487b846fbbdf2cdea739": {
     "views": []
    },
    "5ff78f4e71ca469ea9cfbd90fd7f338a": {
     "views": []
    },
    "60dc4c116bde41dfbc7f409946a0befc": {
     "views": []
    },
    "60df0501dadc4a598285ccd0d2170e97": {
     "views": []
    },
    "61c0bcb6fc8f4055a3e0b849c37d8db5": {
     "views": []
    },
    "61db7800a2734805a1c27d8641d2c208": {
     "views": []
    },
    "622973d414a4478aa8198fee0282f298": {
     "views": []
    },
    "62eef955dd364804ab72e051a115c0b0": {
     "views": []
    },
    "633e1eb6a4fd425cb38e81533b50ef84": {
     "views": []
    },
    "6350e29b7f404b4684bb354d96d0b793": {
     "views": []
    },
    "6375792121564e0f84133b24139a3b6d": {
     "views": []
    },
    "6379a5633aaa4a21a62e8b8dd21b96b6": {
     "views": []
    },
    "639a576ec21b40739cb41c6a7e0831e4": {
     "views": []
    },
    "63bc527b53a04f28b730bf8105c7cb0b": {
     "views": []
    },
    "63c1401b29564e669a803495f469730b": {
     "views": []
    },
    "63c6da36f4bd4e1798bc3fa25877d645": {
     "views": []
    },
    "63fcc4a34118490fb7a8b8b4d9f0baa9": {
     "views": []
    },
    "646b5acd25d74dd0b71910b10d61a8fa": {
     "views": []
    },
    "64f9eb02666a40ef863236273cad2c39": {
     "views": []
    },
    "65753b599dcb4396833f03c4fb3c4a8b": {
     "views": []
    },
    "65a8f9b409d54f40b130f920c0140763": {
     "views": []
    },
    "66724cda0fec4071b422ad83f2795ab6": {
     "views": []
    },
    "66ab87d0f5144a45a77cc52cbb524fcf": {
     "views": []
    },
    "66b9eab52ebb432da763e28cbff3dffc": {
     "views": []
    },
    "684cc9530a684672b547ad7146aac606": {
     "views": []
    },
    "68b99dac55834dae9e08a03d472e964b": {
     "views": []
    },
    "6918f38000bd4f0990abdd6910d19a8d": {
     "views": []
    },
    "6939b000aef246c8bd902f6787eaf63a": {
     "views": []
    },
    "69968046377b42c29a41f8ed42f4b463": {
     "views": []
    },
    "6ab6d34f7e6e4b9a8f092334561577c0": {
     "views": []
    },
    "6ae448c38d5d478ea9bdff25418c7322": {
     "views": []
    },
    "6b3a74b5bde84a029ba5c1eb1785e03a": {
     "views": []
    },
    "6b80eb8e8b0c4f77be47d62e2611bb58": {
     "views": []
    },
    "6c63dd2ce3334dd38a29e2b77d84e9a5": {
     "views": []
    },
    "6e825b0ddb7047798ec172ca1148e4f5": {
     "views": []
    },
    "6e85b51d22e344c2bf3f5da93915155a": {
     "views": []
    },
    "6f25c164a3064caa9e710513970ee7cf": {
     "views": []
    },
    "6f9a2aa998ac48e1815380c49a83782e": {
     "views": []
    },
    "7095288b037c4827b83da67c6591dfed": {
     "views": []
    },
    "70c2baad43ef4a7186bc8db079a1aac0": {
     "views": []
    },
    "70d20ffa67a74b8c9ae685ee12ae1638": {
     "views": []
    },
    "70ee62bfaa894d7db338a1db0434fcda": {
     "views": []
    },
    "714ca721df714636a0520575f9845c63": {
     "views": []
    },
    "717d379e580342b59bcf624f401fba67": {
     "views": []
    },
    "725181d0932d41a29b84cbd77bf7bc7b": {
     "views": []
    },
    "7289aff0e5c94baab18601b7d402c350": {
     "views": []
    },
    "741c0c6573c44e3baa37241753ed9219": {
     "views": []
    },
    "7455f93850624314a7d3f972d30d5802": {
     "views": [
      {
       "cell_index": 3
      }
     ]
    },
    "745e1546de744d9c8ce0bec526d05b34": {
     "views": []
    },
    "7535e3ec27c44c19bd8cf3b51ca48a78": {
     "views": []
    },
    "7568f76b21b843079d10194d4d5a0b0a": {
     "views": []
    },
    "75a40a8165c343d2b84837667f0f9466": {
     "views": []
    },
    "75f67cc8dd5c46ef92b78fd16338611c": {
     "views": []
    },
    "76d76a787cdf46caa7d388023e723a9e": {
     "views": []
    },
    "77bb8382739c4136a5f17bae7304916a": {
     "views": []
    },
    "7891160db29c435ba25f01b47075e47e": {
     "views": []
    },
    "78a10f2bbdc44a46b94f620d0536ad01": {
     "views": []
    },
    "78d7c5747132420d97f11c542b0846ce": {
     "views": []
    },
    "7913d806b3cb45c7aedc5fbc4f1062a5": {
     "views": []
    },
    "791a0109bd1144eab0ee0d2ffeb7d80d": {
     "views": []
    },
    "7a241fc040604495b709557d2e92f1f6": {
     "views": []
    },
    "7a73a333e216407eb8d830f52c0c6671": {
     "views": []
    },
    "7ad3db2bfb664485aa660f0529ef2b82": {
     "views": []
    },
    "7aeaf6f0302646a9868c0a9902c99395": {
     "views": []
    },
    "7aec29c3dba748b38d7f715b91c720f4": {
     "views": []
    },
    "7bbcdc09b20c4a61a8ab28eace8b0783": {
     "views": []
    },
    "7be3cb0f92ef49bbae05c55a8cd2a37c": {
     "views": []
    },
    "7be90eb3e289438784fa271661a6f1ff": {
     "views": []
    },
    "7c4df3614a1d4f6f8e68eea57e050c30": {
     "views": []
    },
    "7c8465173e6747d8b654b8bfc08d84f5": {
     "views": []
    },
    "7ca8caf9ecc14d0681f117dc4d2b5710": {
     "views": []
    },
    "7cd21dfcc7a74e82a7b4d48a49fc8eed": {
     "views": []
    },
    "7d2e088ea011400eb16cf84c53e315b7": {
     "views": []
    },
    "7d8b19c3c30c4fcca49e4710a890d2f3": {
     "views": []
    },
    "7dcb9ccdcae943f1947237c316bfaeb2": {
     "views": []
    },
    "7dfce9f180a24b5d9b5902be73a8f7ac": {
     "views": []
    },
    "7e12ab7c4e954bb6bd969039cca2b303": {
     "views": []
    },
    "7e7a75a3f633490697f52e067b9665a5": {
     "views": []
    },
    "7ecd8c5f368c43edb8a3acfc89b20757": {
     "views": []
    },
    "7eceed821c1b4264b5077a1cbf3799a2": {
     "views": []
    },
    "7edc96d8aac2443ea0ed948890cd7dd2": {
     "views": [
      {
       "cell_index": 3
      }
     ]
    },
    "7fbf952b5b504b1b90b5e8d0ea14a7b4": {
     "views": []
    },
    "811841d6151a49ebb7c2b395ab8f2ea1": {
     "views": []
    },
    "8194b41c96ad4366a495cb1929b2a0a5": {
     "views": []
    },
    "81bfc7be9445466aae6710cfc9403671": {
     "views": []
    },
    "81deda7619dc4f019ccfc05c81368311": {
     "views": []
    },
    "82c4ec3efd0c4d518386303fec756087": {
     "views": []
    },
    "8363efef5cf94e788b93c134b9dc0b29": {
     "views": []
    },
    "839e8e37f9ad48f0838534cd2782b082": {
     "views": []
    },
    "83bb7c67abea4072a54b0ef75fc7c918": {
     "views": []
    },
    "845a3fc128034c8ca577f615d39e10ce": {
     "views": []
    },
    "84ac19acb20b482bb4779760b42c9a9e": {
     "views": []
    },
    "856388f11f6e424f85513ebe8936ff63": {
     "views": []
    },
    "85655f26ec0246a68538214a7e944625": {
     "views": []
    },
    "85a96aa93b5440b6badf5cbd8e2deee3": {
     "views": []
    },
    "861b723e097846acac473eccf5865479": {
     "views": []
    },
    "86701164275c4d6787372a1c504fa014": {
     "views": []
    },
    "86c3482236fd43aaa06ac1d526b05855": {
     "views": []
    },
    "86d254fb23624b84b03176d25ddde960": {
     "views": []
    },
    "87b3b5b190264e8f96d8412187b70a3e": {
     "views": []
    },
    "87d6265b7e7841cf8b23f01c20b0a1e8": {
     "views": []
    },
    "895e562decbc4d62862123b49580b208": {
     "views": []
    },
    "89f2baa3ee304fc290b9f87ae2dc12f1": {
     "views": []
    },
    "8a383f8b185a4f3b95d14edd1b53ef01": {
     "views": []
    },
    "8be4823ce9b141f3b82a96d9665e1de7": {
     "views": []
    },
    "8c58e1052a244789b560e535ebd1e02b": {
     "views": []
    },
    "8c6ce15c63524805abe97ca12c9b8481": {
     "views": []
    },
    "8c6d2d27e2c24e179cfbaee010d8ce62": {
     "views": []
    },
    "8d12a504310445c39d4904bdba33c74e": {
     "views": []
    },
    "8d280ba41c1d417581ac84dd3305a8e1": {
     "views": []
    },
    "8dfc8b16b1a24430bb2ad5decf7ad3bc": {
     "views": []
    },
    "8e00afca65544b05a3e5eb49e97f80b5": {
     "views": []
    },
    "8e22c6a9f6a1465291af221ad5a8569f": {
     "views": []
    },
    "8eaf4830b24840bd94d190128e67c2f4": {
     "views": []
    },
    "8f4bb61baaa34b6186284b781bbf1fef": {
     "views": []
    },
    "8f61f7789e5d4bb598e2f65958f50df5": {
     "views": []
    },
    "8f889c4e630241219488fb43bec7ccc6": {
     "views": []
    },
    "8fb7011752f448c882b36e8b37e2f721": {
     "views": []
    },
    "915cbdae03b547c1b974f245580e7910": {
     "views": []
    },
    "918713c39fe341bf80093edb3fd9252e": {
     "views": []
    },
    "91b214a390f74e26a45b60b4fe907daa": {
     "views": []
    },
    "9242c35070354251a96b4dbdf9016c17": {
     "views": []
    },
    "925319661eeb46338ff1c8abd06fa3b8": {
     "views": []
    },
    "92ca48dee5224e5caf26a93941b38abd": {
     "views": []
    },
    "930eee04bf884fa9aae5b2f98be900f5": {
     "views": []
    },
    "932c09c11d1c49b89ce40a9b43fa2eed": {
     "views": []
    },
    "93b898f64fc84a4983f5dbabff913b74": {
     "views": []
    },
    "943a15c0369444c1ac207d6fcfd3e6ba": {
     "views": []
    },
    "94a10fbd806a4f8eb037fc5edf341cd6": {
     "views": []
    },
    "94cd54d176a34347b0b98379342683d3": {
     "views": []
    },
    "955d66065c2a4d84a50a49e72faad48c": {
     "views": []
    },
    "95c1532178624c53b84a690d145ef40a": {
     "views": []
    },
    "96c26e834a6d4a69a523c9424f0b7a92": {
     "views": []
    },
    "96eafab453ed4d0e97c06c2a6c7779c4": {
     "views": []
    },
    "96f0a098fba8434181c45c1d90961d7a": {
     "views": []
    },
    "973ae62fbba744578a75630c8728f939": {
     "views": []
    },
    "978ddc548d1541f78b3254f8d7cc2982": {
     "views": []
    },
    "97b2a683c3f94220ae981b38e0b190be": {
     "views": []
    },
    "984afbe1c0ac4f8f807fb4381d20f6b6": {
     "views": []
    },
    "9860add8411048e7946fc3ba6c02cfca": {
     "views": []
    },
    "991f4b3424fa41deb8f641ccecfd9b30": {
     "views": []
    },
    "9927dade7b18438da5c9f714f921ca20": {
     "views": []
    },
    "9a385160939c4c28a33b3dcf2f7ff94c": {
     "views": []
    },
    "9a53e39694b144cc8fd0a49c4363abcf": {
     "views": []
    },
    "9b400e9f08df445687299c1024d28ebe": {
     "views": []
    },
    "9d4290dbc4bb45108e96c7416bd10372": {
     "views": []
    },
    "9d99cec8cd2f4a6ca9a1a27abde835b0": {
     "views": []
    },
    "9dacc23ef997436d81556fdaec0908a4": {
     "views": []
    },
    "9dd7d682058b4ab086bedea1e4068ba8": {
     "views": []
    },
    "9e03bf234216452dac0435c1e24b2e64": {
     "views": []
    },
    "9ef6dd01c66747fbac5cb9eb13849954": {
     "views": []
    },
    "9fdad3ae77544fbeb0627473a29d71ca": {
     "views": []
    },
    "a0052d02adae47a6850872a5c0a6dce8": {
     "views": []
    },
    "a06a4f50fff64d0bb4f6246c9d5f5cb1": {
     "views": []
    },
    "a06c817c3bc748c5918de9995db64b8b": {
     "views": []
    },
    "a08769123fe3476383cefcb4c466322f": {
     "views": []
    },
    "a0d4c2a9094a48d7b348a879e998f369": {
     "views": []
    },
    "a163262a225a45deb1c9eace1b9e8a3f": {
     "views": []
    },
    "a21897c237014cd59b0ea0e714c93bc9": {
     "views": []
    },
    "a2b7c5d84feb4678bfbfa8766256f64c": {
     "views": []
    },
    "a2d5416aa3ae4351a4e718b8cafe0779": {
     "views": []
    },
    "a4c44a9b2be54fcc9195568d15ad52ea": {
     "views": []
    },
    "a51a87b9a6274bfd86d35f266bb53221": {
     "views": []
    },
    "a5f88711763f46dfb0477287691dcdb7": {
     "views": []
    },
    "a614aab20a884e5c97e4726770da2290": {
     "views": []
    },
    "a667bdf3e2754bbaab28d02b28b9999a": {
     "views": []
    },
    "a692c3b543bb4bd3bec3b89dcaa32212": {
     "views": []
    },
    "a6cf616b43924a1d9bb54d84577c75f1": {
     "views": []
    },
    "a6ed93704cfa478780162430043fa2f0": {
     "views": []
    },
    "a6f653b505ce4068b55b6afe9a9d9d34": {
     "views": []
    },
    "a6f6df8e57ed4396bd58c6d2fe5f31a3": {
     "views": []
    },
    "a77c958371864f48a3dcdc5ae04ea6cf": {
     "views": []
    },
    "a7b316e39b0549e99cd74f87cc9de15d": {
     "views": []
    },
    "a7c7aea572204e75a70ea025b9a18c59": {
     "views": []
    },
    "a7d699c5f4934e1f9218ae99a9e83f37": {
     "views": []
    },
    "a8b239d7b58242d38c4c7b94392d2590": {
     "views": []
    },
    "a8c3b188a0754154887c439fa2317dd8": {
     "views": []
    },
    "a9378cc8d1fc47ac850732f96c164d76": {
     "views": []
    },
    "a995c2f1691c4b1486175d02fcb8664b": {
     "views": []
    },
    "a9aa95ab29fa459898fd914ad7642670": {
     "views": []
    },
    "a9b9c458c89c447980d14bd8b0e8d3f4": {
     "views": []
    },
    "aa0caed364364bb7901840bc2ea933df": {
     "views": []
    },
    "aa6b74baa45847f48b5017ee61abe7fa": {
     "views": []
    },
    "aa7766e77d674d56a761c75b9b011fc7": {
     "views": []
    },
    "aad0eacaf3ba4ed2bc9358caf497ed86": {
     "views": []
    },
    "ab3a5389b81c413ea250a26f054b8238": {
     "views": []
    },
    "ab59e99bbfbb4a9aa7fa88de29180fde": {
     "views": []
    },
    "abc2c99d573f417e9f69be091db28d46": {
     "views": []
    },
    "abf08c8f866b4425a403888e77d89c12": {
     "views": []
    },
    "ac3c712a138e465e9740c04795f90e68": {
     "views": []
    },
    "ac8a5f09ac924c039e79cd9138bc45ec": {
     "views": []
    },
    "acda0f447e39477a833f28e16ae49646": {
     "views": []
    },
    "acf249f291dd467996a73b048acab624": {
     "views": []
    },
    "ae8af12fad874ec498291f180e442ab0": {
     "views": []
    },
    "aeadbd1ef16f4514b397418a7962547b": {
     "views": [
      {
       "cell_index": 3
      }
     ]
    },
    "aec135f62a3442bf9c8ac5a4f66cef6e": {
     "views": []
    },
    "af043a18cccf4dc494b487199a78a788": {
     "views": []
    },
    "af403a7ed35b4c649c4231f5bfd50f92": {
     "views": []
    },
    "b0934c962df547bd92e367a9a2ffc59c": {
     "views": []
    },
    "b09e2009c721455b8d0023715db1c76a": {
     "views": []
    },
    "b0e2aadef68b4271bb486b1a38bb3730": {
     "views": []
    },
    "b21d2a55f89b443cba3eb361cd4bc0c4": {
     "views": []
    },
    "b28ab4f964e143a79e81ee1660d69ade": {
     "views": []
    },
    "b3220fe10bc24a9a873e826d42e671c7": {
     "views": []
    },
    "b364501d48cb4c55b0907fd0c9b64fef": {
     "views": []
    },
    "b389c753527f49d29ccc562856017eef": {
     "views": []
    },
    "b42ebeeb85054cc6a2878a29697396d0": {
     "views": []
    },
    "b44229d0a2cf46c6b33a67c3eb9db3bc": {
     "views": []
    },
    "b46131fa41c7462b9f4a8d1c79f511dd": {
     "views": []
    },
    "b47728ebf22a4c269cb3b8a14a8d5998": {
     "views": []
    },
    "b499efca6e2d470aa48ff085d265176f": {
     "views": []
    },
    "b4fac679cb0440daa0b50a53f74af6e3": {
     "views": []
    },
    "b5370430dc8b403184e41a68352fb100": {
     "views": []
    },
    "b6013a5018334c7f89a0e3085d4fd787": {
     "views": []
    },
    "b6311fe63eae47078cdfcbf33e2e3eb3": {
     "views": []
    },
    "b7fdfb87798547e28178bca4c9c90015": {
     "views": [
      {
       "cell_index": 3
      }
     ]
    },
    "b862f5ba9f1145f9a39b3f5344c6b809": {
     "views": []
    },
    "b8c7867288574a6bbbf2209770810ed0": {
     "views": []
    },
    "b9126758337545fe9711c966431204ab": {
     "views": []
    },
    "b974f8d2f50f48a9b42e91fad6b61b7a": {
     "views": []
    },
    "b9ef137bd6184cd596b1680a78df0f7c": {
     "views": []
    },
    "ba3c0c85aea24855acaa5bb9aa7c7964": {
     "views": []
    },
    "baa2b6d72bea40998956284ded177fc7": {
     "views": []
    },
    "bb161a08ec304b158294fb25c122a27f": {
     "views": []
    },
    "bb199f0ea7d24afdb8b26e94de3fbf26": {
     "views": []
    },
    "bb881603898346d59d51cbc74b2db0b3": {
     "views": []
    },
    "bbcb6ec2c4c0429ca76655086a5ff028": {
     "views": []
    },
    "bcca252f5a4545609236902fa7189457": {
     "views": []
    },
    "bd4af9ad2dc24e848aa4603ee38e2dde": {
     "views": []
    },
    "bdae20f405c345fdb92b35ccd66000a9": {
     "views": []
    },
    "bde1c12648a94557a5382c1bde399606": {
     "views": []
    },
    "bf1250fcec3f418b939fd913b2b20172": {
     "views": []
    },
    "bf85077b37654b369fb0dc66763ab7dd": {
     "views": []
    },
    "c00cf060321f41b58cdaedc608735935": {
     "views": []
    },
    "c02077fffaaa4343b9dcc5e2fd5d1830": {
     "views": []
    },
    "c035fa53a9a446b98bbec0eb20ba2220": {
     "views": []
    },
    "c0e425dfa7ee491babaf548d4cf9cc56": {
     "views": []
    },
    "c0e48bd1877145a29fbb3c512e8f5233": {
     "views": []
    },
    "c22fe75b6e8e49d0b98151432e5eee56": {
     "views": []
    },
    "c29d214db1be40b7add0b6be6834a405": {
     "views": []
    },
    "c3c49e7712e6405d9d87ed55a08a7d2e": {
     "views": []
    },
    "c40b6a8752b4403cb25ee4ba792bfd24": {
     "views": []
    },
    "c4dff38d590948ef8cc6f0b8f52475f0": {
     "views": []
    },
    "c54781e0d0ee49928ff0df0478bfb940": {
     "views": []
    },
    "c575b147695a48c7b20e2e99ca46434a": {
     "views": []
    },
    "c58fc7cf182948bdb7bf764d53c61598": {
     "views": []
    },
    "c6d7d5b5c70b42588f013b42d4cd2b32": {
     "views": []
    },
    "c6e7965201514903a99a21b236b5165f": {
     "views": []
    },
    "c6f44112b75b47edad7d033fb2a6b90a": {
     "views": []
    },
    "c761a7c6713b408b93c281f6f601d859": {
     "views": []
    },
    "c76f27f18feb40e5a076d0f47149569a": {
     "views": []
    },
    "c79c913e57b543efa326846f38d4fca4": {
     "views": []
    },
    "c7e9d791198942a78cf861fbf545d175": {
     "views": []
    },
    "c86ac871293348f2a66f213ad9786aa0": {
     "views": []
    },
    "c961452229e24d098b2bc0ab3f83ef9a": {
     "views": []
    },
    "ca0f1a3a5b484a25b3dc8413fbf3e23e": {
     "views": []
    },
    "ca29f738a2624492bc27c1b9f88d822a": {
     "views": []
    },
    "ca31b3a21e3c4b379f64e2e6fcb357fc": {
     "views": []
    },
    "cada1d8d8bd544108d5f873395bbd87e": {
     "views": []
    },
    "caf754ee9a934cc18dfa8de48c540b48": {
     "views": []
    },
    "cb285f5ab8564bdeb019dbd751d93bd5": {
     "views": []
    },
    "cb3b9e07102a4a31a0019c61d154f25f": {
     "views": []
    },
    "cb88c461fa504b70b0a73d988c42bcdf": {
     "views": []
    },
    "cb9af2f9cf8c4881ae3ef56e8dcd2a17": {
     "views": []
    },
    "cbbdf08f18634551b3cc0c45450d8570": {
     "views": []
    },
    "cc1cd66ade9b44669e6b2ab638e53892": {
     "views": []
    },
    "cc49d7aab7494cbd91f2c5b1f9380bcf": {
     "views": []
    },
    "cc66a0633ffe464a8ae7909f52e86b14": {
     "views": []
    },
    "ccd3c7593e1744fdaf19abcec0f18ac6": {
     "views": []
    },
    "cd10dd60a6844677adf73eae70afc649": {
     "views": []
    },
    "cd125cdbaa0d4952802813cd4c7ba2fc": {
     "views": []
    },
    "cd6ebaf6fc2f4db5b94f865ad97e9d7e": {
     "views": []
    },
    "cd8a73e0260f435dbbd15b66ea615512": {
     "views": []
    },
    "cd8d03bffc0a4032a162a3152a1e1dba": {
     "views": []
    },
    "ce07db864ab04ef5886ff433dd80913a": {
     "views": []
    },
    "ce566c556b964455bbf10e9fe38a8aef": {
     "views": []
    },
    "cecb34c72df14443afb404d711c9efe8": {
     "views": []
    },
    "cf69b150b302401895aeba7d95ee93dc": {
     "views": []
    },
    "cfa95571057344c0b4d817bf64059f01": {
     "views": []
    },
    "cfde551533c148728a92687c2bde9ced": {
     "views": []
    },
    "d02c7283d8704ac098a0d20eece35776": {
     "views": []
    },
    "d08ab0d8ac5b4ce7af2808f918ca55d5": {
     "views": []
    },
    "d146a5549c8b4a32b7bc795351770bb0": {
     "views": []
    },
    "d1d6d7b9553440008659b8414d609cd3": {
     "views": []
    },
    "d22587affc25490e9ea8870bb5358a22": {
     "views": []
    },
    "d2e30e2989a04a66a67fa93cfb3a699d": {
     "views": []
    },
    "d3a31ec4f1434b38be408e6817521602": {
     "views": []
    },
    "d3cc648fbf77479aa821c3d7a13a8d66": {
     "views": []
    },
    "d42120c8236c48a88ad28ff23d494020": {
     "views": []
    },
    "d445bc5fa7704d3f8444116901ace028": {
     "views": []
    },
    "d4e6838eacbe4547839f3d76ca8b1bf8": {
     "views": []
    },
    "d53c2b37dfa34689839e84f1905fdc10": {
     "views": []
    },
    "d54a79bbaa194fe7886dacdbb9081224": {
     "views": []
    },
    "d601f6ac49434d428f19694c93b417ee": {
     "views": []
    },
    "d649770ce227428284d7dbc0c71a6e0c": {
     "views": []
    },
    "d6cff3891d2a4060ac4e2afb3b46a54c": {
     "views": []
    },
    "d76fef3d4e9c4b46b6993a25bf7985b2": {
     "views": []
    },
    "d774cdebc91b45c98ab51adcd06aeeaa": {
     "views": []
    },
    "d7ea4d11bb8c4cea86be4286ab4caedd": {
     "views": []
    },
    "d8c3dc4604944c00b4945ac4229aaf66": {
     "views": []
    },
    "d9867c08a21b4026adace9e6df7669a2": {
     "views": []
    },
    "da2e08210c904283bfe1e689f8c7b679": {
     "views": []
    },
    "dad022aff14c48a0aa25ac0065e16d8f": {
     "views": []
    },
    "dae0e0521af3419eba70450d360acd24": {
     "views": []
    },
    "db27620ea22f4be38973d946bdf0102f": {
     "views": []
    },
    "db475ce8f8034d6683b7e84e33fc0ed5": {
     "views": [
      {
       "cell_index": 3
      }
     ]
    },
    "db8928fd186b4861b42a38098ac9ea96": {
     "views": []
    },
    "db9ca643c1e146bfb73bca898427c2ca": {
     "views": []
    },
    "dbc7f6d94a584a919a4bfb0caaae16ea": {
     "views": []
    },
    "dccf6c139fb249778d123389af6b1e76": {
     "views": []
    },
    "dd445f539f1748ef823ef7df5c206d8c": {
     "views": []
    },
    "dde5a1de703a41309bbd74926051fc87": {
     "views": []
    },
    "de9b09d6fbea4b54871c746147fbc113": {
     "views": []
    },
    "def307b54eeb418c9683649a64903864": {
     "views": []
    },
    "df1b9f959a0c429bbb1e5c9f9628b32b": {
     "views": []
    },
    "df57445c1a17437abce7980ef2cda471": {
     "views": []
    },
    "dfc83ff42db64a9ca28146cfe4924b28": {
     "views": []
    },
    "dfd485682d9d40959ee52460bc64bbb6": {
     "views": []
    },
    "e02a647936784b7f9dd09be6fd0e275a": {
     "views": []
    },
    "e033dd27af1e4154b2ea84bc448bc71a": {
     "views": []
    },
    "e09120c23d9c4c5f808f3ff5935296c0": {
     "views": []
    },
    "e122758e021240159e585f9c824cbdae": {
     "views": []
    },
    "e1cfb4b3a906433ea704599eb13c9437": {
     "views": []
    },
    "e1d2105c22ed4a3384c9d8753fb736b0": {
     "views": []
    },
    "e1f27cb2f01f47b6b17408d1fbab762e": {
     "views": []
    },
    "e20bfd18f5ee40df86f42d619f65a54f": {
     "views": []
    },
    "e247b62d501c4b3aa7a777b2d5e0e99a": {
     "views": []
    },
    "e3449ba11a0e41b899c249e53e5094ce": {
     "views": []
    },
    "e3c2aca53753458e91d886216852d42a": {
     "views": []
    },
    "e435ec3dc48f406aa030d1fb19ae7e14": {
     "views": []
    },
    "e4698884736246f1852676cf800c13a3": {
     "views": []
    },
    "e56cdcfdc1b0431592550a4ecbb2c831": {
     "views": []
    },
    "e663b62d7b2b49acab013a879a7c2d06": {
     "views": []
    },
    "e72887f8fedc4b7abd15f2c3e8391fd1": {
     "views": []
    },
    "e7defdeeba2d47118a44ed414c7c2226": {
     "views": []
    },
    "e888108b4c7741a1851fb117b45295e1": {
     "views": []
    },
    "e8ec10ea17bb4024804694c3ba25f518": {
     "views": []
    },
    "e8f78a973aab4be99006128d96946648": {
     "views": []
    },
    "e9770a04e5894fb4b356c7e83df0c931": {
     "views": []
    },
    "e9b8a67dc57643f28d1ccfc157c9c0e2": {
     "views": []
    },
    "e9eec96c0f58470cb6457a8fa80d3d78": {
     "views": []
    },
    "ea02757de98a45adb88d593ccfd09ab6": {
     "views": []
    },
    "ea18ed9cb17b4e06920b454c4bbf26b9": {
     "views": []
    },
    "ea3275ccb17840c68112d0f59fe9b144": {
     "views": []
    },
    "ea601db17ef64e0dbc99c774d73c9a6f": {
     "views": []
    },
    "ea7177c8f1624dc8bc715b251d499b2b": {
     "views": []
    },
    "eaae91ab48a44765b23804db50cb2e4e": {
     "views": []
    },
    "eaf7525d064248abb07e39ab79ef818d": {
     "views": []
    },
    "ec0680d8355f47259483ef7c1ac30f44": {
     "views": []
    },
    "ec1fdc0b7b054e438c23c3e9294aeda0": {
     "views": []
    },
    "ec7385c5974640c9a8adefec3cf9057b": {
     "views": []
    },
    "eccc12bc33eb472793546796e7d5d57a": {
     "views": [
      {
       "cell_index": 3
      }
     ]
    },
    "ed9d8b7c60684af58b6dcf3b8467c163": {
     "views": []
    },
    "ede14566727e4b5a9ecdfca433d695b6": {
     "views": []
    },
    "ee86c75fb2c2448fbc047ece7e091328": {
     "views": []
    },
    "ef08dbeb56b94dc980abcd1f8cf896f2": {
     "views": []
    },
    "ef67ead558a744a9b2d7d5212d1f3876": {
     "views": []
    },
    "f15eaffc9e374150a0b7717abc0d19f2": {
     "views": []
    },
    "f176b06396154e89b133161229665fc9": {
     "views": []
    },
    "f218e3ab30cb4220a734e9814be37cb8": {
     "views": []
    },
    "f2b933f8786c4c53b0b10edc3032be98": {
     "views": []
    },
    "f2c40a553d434152a11a8d16cf8f49a4": {
     "views": []
    },
    "f32a48b970b541e9825e0aed72fe3402": {
     "views": []
    },
    "f441c10f78504f43b576f4f37edbd0f9": {
     "views": []
    },
    "f4656616ef454892ba639a95951807e7": {
     "views": []
    },
    "f577140168844139b835a9b7ca952c07": {
     "views": []
    },
    "f582351fbfcb4cdda58a61777e4212f1": {
     "views": []
    },
    "f5cf5635baa041e2ac1cd9a2a4bb879f": {
     "views": [
      {
       "cell_index": 3
      }
     ]
    },
    "f5d38f49abdc477db006abd3c75dc201": {
     "views": []
    },
    "f5f2d20f166f461bade877ffb14ad39b": {
     "views": []
    },
    "f5f3addd8cff49438a901a93502279cd": {
     "views": []
    },
    "f65eece6ab42483087d9fd7a8cd9b657": {
     "views": []
    },
    "f67d178bfe2a457c85129ff3dd237640": {
     "views": []
    },
    "f6d6e7147f3749598b8b4ff367e3bbd7": {
     "views": []
    },
    "f7897942cac740749f7caf73a2526bc6": {
     "views": []
    },
    "f85a54d3066344a5b8bcbc71bd777c96": {
     "views": []
    },
    "f85f9c14614b493abf926a84e3a30d29": {
     "views": []
    },
    "f87274fab3c64d71b6de58c62c4d136c": {
     "views": []
    },
    "f9230cf8a2cd427fb9ef7874e7b91d83": {
     "views": []
    },
    "f93b970c3f504ba4ac705a60d303b518": {
     "views": []
    },
    "fb997e818b764137b69a36c93a70f1e8": {
     "views": []
    },
    "fc008e697fc24c95b68f819409da7270": {
     "views": []
    },
    "fc3543b0ec024c6cb5f52991110ae9a1": {
     "views": []
    },
    "fd8c59ba3bc541cd983d49cf6f6d7992": {
     "views": []
    },
    "feb19658532b4bcfa514b57abd0a6bcb": {
     "views": []
    },
    "ff2424b3139f4993bce579bf00a02fcc": {
     "views": []
    },
    "ffc251d640c648178548d71b0a0bf88d": {
     "views": []
    }
   },
   "version": "1.1.2"
  }
 },
 "nbformat": 4,
 "nbformat_minor": 0
}
